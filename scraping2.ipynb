{
 "cells": [
  {
   "cell_type": "code",
   "execution_count": 15,
   "metadata": {},
   "outputs": [],
   "source": [
    "from bs4 import BeautifulSoup\n",
    "import requests\n"
   ]
  },
  {
   "cell_type": "code",
   "execution_count": 16,
   "metadata": {},
   "outputs": [],
   "source": [
    "url = \"https://coinmarketcap.com/\"\n",
    "result = requests.get(url).text\n",
    "doc = BeautifulSoup(result, \"html.parser\")"
   ]
  },
  {
   "cell_type": "code",
   "execution_count": 28,
   "metadata": {},
   "outputs": [],
   "source": [
    "tbody =  doc.tbody\n",
    "trs = tbody.contents\n",
    "prices = {}"
   ]
  },
  {
   "cell_type": "code",
   "execution_count": 45,
   "metadata": {},
   "outputs": [
    {
     "name": "stdout",
     "output_type": "stream",
     "text": [
      "{'Bitcoin': '$22,058.47', 'Ethereum': '$1,546.34', 'Tether': '$0.9999', 'BNB': '$286.32', 'USD Coin': '$0.9999', 'XRP': '$0.3825', 'Cardano': '$0.3265', 'Polygon': '$1.12', 'Dogecoin': '$0.07304', 'Binance USD': '$1.00'}\n"
     ]
    }
   ],
   "source": [
    "for tr in trs[:10]:\n",
    "    name, price = tr.contents[2:4]\n",
    "    fixed_name = name.p.string\n",
    "    fixed_price = price.a.string\n",
    "\n",
    "    prices[fixed_name] = fixed_price\n",
    "\n",
    "print(prices)"
   ]
  },
  {
   "cell_type": "code",
   "execution_count": null,
   "metadata": {},
   "outputs": [],
   "source": []
  }
 ],
 "metadata": {
  "kernelspec": {
   "display_name": "Python 3",
   "language": "python",
   "name": "python3"
  },
  "language_info": {
   "codemirror_mode": {
    "name": "ipython",
    "version": 3
   },
   "file_extension": ".py",
   "mimetype": "text/x-python",
   "name": "python",
   "nbconvert_exporter": "python",
   "pygments_lexer": "ipython3",
   "version": "3.11.2"
  },
  "orig_nbformat": 4
 },
 "nbformat": 4,
 "nbformat_minor": 2
}
